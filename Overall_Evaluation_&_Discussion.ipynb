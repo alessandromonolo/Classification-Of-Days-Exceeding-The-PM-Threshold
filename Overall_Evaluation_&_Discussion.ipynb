{
 "cells": [
  {
   "cell_type": "markdown",
   "metadata": {},
   "source": [
    "Project: Prediction mean values and exceeding limit days of fine Particulate Matter (PM2.5) in the air - Milan (Italy).\n",
    "\n",
    "Student: **Alessandro Monolo** | 1790210\n",
    "\n",
    "Lecturer: Jonas Moons\n",
    "\n",
    "Fundamentals of Machine Learning - Master Data-Driven Design, Hogeschool Utrecht.\n",
    "\n",
    "August 2021 - Block E"
   ]
  },
  {
   "cell_type": "markdown",
   "metadata": {},
   "source": [
    "# Project Description"
   ]
  },
  {
   "cell_type": "markdown",
   "metadata": {},
   "source": [
    "The final dataset was composed of about **108 CSV files**, downloaded from the following websites which provide public data available on air quality monitoring and climatic data.\n",
    "\n",
    "[ARPA Lombardia](https://www.arpalombardia.it/Pages/Meteorologia/Richiesta-dati-misurati.aspx)\n",
    "\n",
    "[Meteo.it](https://www.ilmeteo.it/portale/archivio-meteo/Milano)\n",
    "\n",
    "\n",
    "From the cleaning, pre-processing, and merging phases, I composed a final dataset of **18 columns and 1890 rows** after dropping highly correlated columns with PM2.5, such as PM10 and any rows with missing values (NaN).\n",
    "The dataset provides daily mean data, from 1 January 2014 to 31 December 2019, for the city of Milan (in Italy).\n",
    "\n",
    "Timeline data were extracted and used principally during the exploration phase, such as days of the week, months of the year, and seasons of the year.\n",
    "Additional climatic parameters were extrapolated to create variables which provide information about any atmospheric phenomena that occurred during every single day, such as rain, sultriness, fog, and snow.\n",
    "\n",
    "The research mainly aims to identify through classification algorithms (**KNN** and **Random Forest**) if one day, based on its climatic features and concentrations of harmful elements in the air, it turns out to be harmful (or not) to the health of citizens in the Milan metropoly.\n",
    "As described, a day is considered harmful to human health if the maximum daily threshold exceeds 25µg / m³, repeatedly during the year and therefore not the day took individually.\n",
    "Furthermore, a second prediction model, **Linear Regression**, was adopted to predict daily mean **PM2.5 values**.\n",
    "\n",
    "In order to predict the two dependent variables (**over_PM25_Limit** for KNN and Random Forest, PM2.5 daily value with Linear Regression), the variable PM2.5 µg / m³ is not taken into consideration given the direct correlation with the final prediction.\n",
    "\n",
    "Given the local geographic and climatic characteristics, the model cannot be exported to other highly polluted cities, as further differentiation would be required."
   ]
  },
  {
   "cell_type": "markdown",
   "metadata": {},
   "source": [
    "## Overall Evaluation\n",
    "\n",
    "The classifiers were used to predict both 0 (not harmful days) and 1 (harmful days) values.\n",
    "Since the research aims to predict whether a day is harmful to citizens, based on specific daily features, greater weight is given to correctly identifying the values 1 well interpreted by the classification algorithms: KNN, Random Forest (and Decision Tree ).\n",
    "\n",
    "| Prediction Model | Precision | Recall | Overall Accuracy | Overall errors\n",
    "| ----- | ----- | ----- | ----- | ----- \n",
    "| Random Forest | 83% | 79% | 86% | 79 |\n",
    "| ----- | ----- | ----- | ----- | ----- \n",
    "| KNN | 80% | 72% | 83% | 93 |\n",
    "| ----- | ----- | ----- | ----- | ----- \n",
    "| Decision Tree | 64% | 73% | 76% | 132 |\n",
    "\n",
    "While, for Linear regression the model reached the following parameters:\n",
    "\n",
    "- **MAE**, the Mean Absolute Error : **8.49**\n",
    "- **MSE**, the Mean Squared Error is : **166.14**\n",
    "- **RMSE**, the Root Mean Square Error is  : **12.89**"
   ]
  },
  {
   "cell_type": "markdown",
   "metadata": {},
   "source": [
    "## Bibliography\n",
    "\n",
    "\n",
    "- Che tempo faceva a Milano - Archivio Meteo Milano. (2021). IlMeteo. https://www.ilmeteo.it/portale/archivio-meteo/Milano\n",
    "\n",
    "\n",
    "- Richiesta dati misurati - Meteorologia | ARPA Lombardia. (2021). ARPA Lombardia. https://www.arpalombardia.it/Pages/Meteorologia/Richiesta-dati-misurati.aspx\n",
    "\n",
    "\n",
    "- Cheng, Y., He, K. B., Du, Z. Y., Zheng, M., Duan, F. K., & Ma, Y. L. (2015). Humidity plays an important role in the PM 2.5 pollution in Beijing. Environmental Pollution, 197, 68–75.\n",
    "\n",
    "\n",
    "- Doreswamy, K S, H., KM, Y., & Gad, I. (2020). Forecasting Air Pollution Particulate Matter (PM2.5) Using Machine Learning Regression Models. Procedia Computer Science, 171, 2057–2066.\n",
    "\n",
    "\n",
    "- Earth, B. (2021, January 21). Air Pollution and Cigarette Equivalence. Berkeley Earth.\n",
    "    http://berkeleyearth.org/air-pollution-and-cigarette-equivalence/.\n",
    "    \n",
    "\n",
    "- Standards - Air Quality - Environment - European Commission. (2020). European Commission. https://ec.europa.eu/environment/air/quality/standards.htm\n",
    "\n",
    "\n",
    "- Carugno, M., Consonni, D., Randi, G., Catelan, D., Grisotto, L., Bertazzi, P. A., Biggeri, A., & Baccini, M. (2016a). Air pollution exposure, cause-specific deaths and hospitalizations in a highly polluted Italian region. Environmental Research, 147, 415–424.\n",
    "\n",
    "\n",
    "- Khomenko, S., Cirach, M., Pereira-Barboza, E., Mueller, N., Barrera-Gómez, J., Rojas-Rueda, D., de Hoogh, K., Hoek, G., & Nieuwenhuijsen, M. (2021a). Premature mortality due to air pollution in European cities: a health impact assessment. The Lancet Planetary Health, 1.\n",
    "\n",
    "\n",
    "- Basic Information about NO2. (2021, June 7). US EPA. https://www.epa.gov/no2-pollution/basic-information-about-no2"
   ]
  }
 ],
 "metadata": {
  "kernelspec": {
   "display_name": "Python 3",
   "language": "python",
   "name": "python3"
  },
  "language_info": {
   "codemirror_mode": {
    "name": "ipython",
    "version": 3
   },
   "file_extension": ".py",
   "mimetype": "text/x-python",
   "name": "python",
   "nbconvert_exporter": "python",
   "pygments_lexer": "ipython3",
   "version": "3.8.3"
  }
 },
 "nbformat": 4,
 "nbformat_minor": 4
}
